{
 "cells": [
  {
   "cell_type": "markdown",
   "id": "1c0ca8c6-447b-42d9-ad05-f30efa6f97d5",
   "metadata": {},
   "source": [
    "# Problem Set 2"
   ]
  },
  {
   "cell_type": "markdown",
   "id": "c203317b-e0cf-4364-b176-beed14a487f5",
   "metadata": {},
   "source": [
    "### Question 1"
   ]
  },
  {
   "cell_type": "markdown",
   "id": "177237b4-b722-4f6c-b5e9-3b5cf0ad489e",
   "metadata": {},
   "source": [
    "Consider the following Python module:  \n",
    "a = 0  \n",
    "  \n",
    "def b():  \n",
    "    global a  \n",
    "    a = c(a)  \n",
    "  \n",
    "def c(a):  \n",
    "    return a + 2  \n",
    "  \n",
    "After importing the module into the interpreter, you execute:  \n",
    "     >>>b()  \n",
    "     >>>b()  \n",
    "     >>>b()  \n",
    "     >>>a  \n",
    "     ?  \n",
    "What value is displayed when the last expression (a) is evaluated? Explain your answer by indicating what happens in every executed statement.  "
   ]
  },
  {
   "cell_type": "code",
   "execution_count": 1,
   "id": "652ea3fd-23a6-409f-91f8-c3ea40354b85",
   "metadata": {},
   "outputs": [
    {
     "data": {
      "text/plain": [
       "6"
      ]
     },
     "execution_count": 1,
     "metadata": {},
     "output_type": "execute_result"
    }
   ],
   "source": [
    "# Solution\n",
    "\n",
    "a = 0  # we initialized a variable 'a' with global scope\n",
    "  \n",
    "def b():  \n",
    "    global a  # here we declare 'a' as global since we will need to\n",
    "              # modify its value from inside the function\n",
    "            \n",
    "    a = c(a)  # then we call another function 'c', pass an argument 'a'\n",
    "              # and re-assign the output to 'a'\n",
    "        \n",
    "def c(a):         # we define a function which requires a single parameter\n",
    "    return a + 2  # increments and returns the value of 'a' by 2\n",
    "\n",
    "b() # a + 2 = 0 + 2 = 2\n",
    "\n",
    "b() # a + 2 = 2 + 2 = 4\n",
    "\n",
    "b() # a + 2 = 4 + 2 = 6\n",
    "\n",
    "a # returns the value of 'a'"
   ]
  },
  {
   "cell_type": "markdown",
   "id": "bdee9ec4-178c-4b4a-af77-cd50009c6ab4",
   "metadata": {},
   "source": [
    "### Question 2"
   ]
  },
  {
   "cell_type": "markdown",
   "id": "1eabbce3-61dd-4a5a-be79-af72d8302ebc",
   "metadata": {},
   "source": [
    "Function fileLength(), given to you, takes the name of a file as input and returns the length of the file:  \n",
    "    >>> fileLength('midterm.py') \n",
    "    284  \n",
    "    >>> fileLength('idterm.py')  \n",
    "    Traceback (most recent call last):  \n",
    "    File \"<pyshell#34>\", line 1, in <module>  \n",
    "        fileLength('idterm.py') File \"/Users/me/midterm.py\", line 3, in fileLength  \n",
    "        infile = open(filename)  \n",
    "        FileNotFoundError: [Errno 2] No such file or directory: 'idterm.py'  \n",
    "      \n",
    "As shown above, if the file cannot be found by the interpreter or if it cannot be read as a text file, an exception will be raised. Modify function fileLength() so that a friendly message is printed instead:  \n",
    "    >>> fileLength('midterm.py')  \n",
    "    358  \n",
    "    >>> fileLength('idterm.py')  \n",
    "    File idterm.py not found."
   ]
  },
  {
   "cell_type": "code",
   "execution_count": 2,
   "id": "c98c3d8d-2b24-4106-b17f-2acfa52e87ca",
   "metadata": {},
   "outputs": [
    {
     "name": "stdout",
     "output_type": "stream",
     "text": [
      "File idterm.py not Found.\n"
     ]
    }
   ],
   "source": [
    "# Solution\n",
    "\n",
    "def file_length(file_name):\n",
    "    try:\n",
    "        file = open(file_name)\n",
    "        contents = file.read()\n",
    "        file.close()\n",
    "        print(len(contents))\n",
    "    except FileNotFoundError:\n",
    "        print(f\"File {file_name} not Found.\")\n",
    "\n",
    "file_length(\"idterm.py\")"
   ]
  },
  {
   "cell_type": "markdown",
   "id": "32ac0928-20fb-4677-8747-42f905c298a9",
   "metadata": {},
   "source": [
    "### Question 3"
   ]
  },
  {
   "cell_type": "markdown",
   "id": "906acac6-0e05-4850-98fc-bfaaea556230",
   "metadata": {},
   "source": [
    "Write a class named Marsupial that can be used shown below:"
   ]
  },
  {
   "cell_type": "markdown",
   "id": "f5fa35ef-917f-40df-a6c2-4634c8e39f16",
   "metadata": {},
   "source": [
    "m = Marsupial()  \n",
    "m.put_in_pouch('doll')  \n",
    "m.put_in_pouch('firetruck')  \n",
    "m.put_in_pouch('kitten')  \n",
    "m.pouch_contents()  \n",
    "['doll', 'firetruck', 'kitten']  "
   ]
  },
  {
   "cell_type": "code",
   "execution_count": 3,
   "id": "2b56be94-70da-4bd0-a1c4-88b91b3ede0c",
   "metadata": {},
   "outputs": [
    {
     "data": {
      "text/plain": [
       "['doll', 'firetruck', 'kitten']"
      ]
     },
     "execution_count": 3,
     "metadata": {},
     "output_type": "execute_result"
    }
   ],
   "source": [
    "# Solution 3.a.\n",
    "\n",
    "class Marsupial:\n",
    "    def __init__(self):\n",
    "        self.pouch = []\n",
    "    def put_in_pouch(self, item: str) -> None:\n",
    "        self.pouch.append(item)\n",
    "    def pouch_contents(self):\n",
    "        return self.pouch\n",
    "\n",
    "m = Marsupial()\n",
    "m.put_in_pouch('doll')\n",
    "m.put_in_pouch('firetruck')\n",
    "m.put_in_pouch('kitten')\n",
    "m.pouch_contents()"
   ]
  },
  {
   "cell_type": "markdown",
   "id": "04945d75-8aa1-4488-afe6-b8f8ffddea9d",
   "metadata": {},
   "source": [
    "Now write a class named Kangaroo as a subclass of Marsupial that inherits all the attributes of Marsupial and also:  \n",
    "a. extends the Marsupial __init__ constructor to take, as input, the coordinates x and y of the Kangaroo object,  \n",
    "b. supports method jump that takes number values dx and dy as input and moves the kangaroo by dx units along the x-axis and by dy units along the y-axis, and  \n",
    "c. overloads the __str__ operator so it behaves as shown below.  \n",
    "    >>> k = Kangaroo(0,0)  \n",
    "    >>> print(k)  \n",
    "I am a Kangaroo located at coordinates (0,0)  \n",
    "    >>> k.put_in_pouch('doll')  \n",
    "    >>> k.put_in_pouch('firetruck')  \n",
    "    >>> k.put_in_pouch('kitten')  \n",
    "    >>> k.pouch_contents()  \n",
    "['doll', 'firetruck', 'kitten']  \n",
    "    >>> k.jump(1,0)  \n",
    "    >>> k.jump(1,0)  \n",
    "    >>> k.jump(1,0)  \n",
    "    >>> print(k)  \n",
    "I am a Kangaroo located at coordinates (3,0)  "
   ]
  },
  {
   "cell_type": "code",
   "execution_count": 4,
   "id": "131cc8a6-258a-4e6e-84a8-64a00cd4c9dc",
   "metadata": {},
   "outputs": [],
   "source": [
    "# Solution 3.b.\n",
    "\n",
    "class Kangaroo(Marsupial):\n",
    "    def __init__(self, x, y):\n",
    "        Marsupial.__init__(self)\n",
    "        self.x = x\n",
    "        self.y = y\n",
    "    def jump(self, dx, dy): # new method\n",
    "        self.x += dx\n",
    "        self.y += dy\n",
    "    def __str__(self): # overload the __str__ operator\n",
    "        return f\"I am a Kangaroo located at coordinates ({self.x, self.y})\""
   ]
  },
  {
   "cell_type": "code",
   "execution_count": 5,
   "id": "323929aa-a38c-4b1b-958f-06d2e1c2986f",
   "metadata": {},
   "outputs": [
    {
     "name": "stdout",
     "output_type": "stream",
     "text": [
      "I am a Kangaroo located at coordinates ((0, 0))\n"
     ]
    }
   ],
   "source": [
    "k = Kangaroo(0, 0)\n",
    "\n",
    "print(k)"
   ]
  },
  {
   "cell_type": "code",
   "execution_count": 6,
   "id": "d52c38cf-a489-4298-8dae-7725d5969f1b",
   "metadata": {},
   "outputs": [
    {
     "data": {
      "text/plain": [
       "['doll', 'firetruck', 'kitten']"
      ]
     },
     "execution_count": 6,
     "metadata": {},
     "output_type": "execute_result"
    }
   ],
   "source": [
    "k.put_in_pouch('doll')\n",
    "k.put_in_pouch('firetruck')\n",
    "k.put_in_pouch('kitten')\n",
    "k.pouch_contents()"
   ]
  },
  {
   "cell_type": "code",
   "execution_count": 7,
   "id": "140be6ea-77f7-4669-b722-f41eefa257c1",
   "metadata": {},
   "outputs": [
    {
     "name": "stdout",
     "output_type": "stream",
     "text": [
      "I am a Kangaroo located at coordinates ((3, 0))\n"
     ]
    }
   ],
   "source": [
    "k.jump(1,0)\n",
    "k.jump(1,0)\n",
    "k.jump(1,0)\n",
    "print(k)"
   ]
  },
  {
   "cell_type": "markdown",
   "id": "53b9fac0-7736-421e-806c-422b868bd94d",
   "metadata": {},
   "source": [
    "### Question 4"
   ]
  },
  {
   "cell_type": "markdown",
   "id": "0b43726e-85a2-4139-802c-d8884052f57f",
   "metadata": {},
   "source": [
    "Write function collatz() that takes a positive integer x as input and prints the Collatz sequence starting at x.  \n",
    "A Collatz sequence is obtained by repeatedly applying this rule to the previous number x in the sequence:  \n",
    "x = { 𝑥/2 𝑖𝑓 𝑥 𝑖𝑠 𝑒𝑣𝑒𝑛  or  \n",
    "     3𝑥+1 𝑖𝑓 𝑥 𝑖𝑠 𝑜𝑑𝑑  \n",
    "Your function should stop when the sequence gets to number 1.  \n",
    "Your implementation must be recursive, without any loops.  "
   ]
  },
  {
   "cell_type": "code",
   "execution_count": 8,
   "id": "28991845-0347-41b1-9ed7-8d4d8200a072",
   "metadata": {},
   "outputs": [
    {
     "data": {
      "text/plain": [
       "[1]"
      ]
     },
     "execution_count": 8,
     "metadata": {},
     "output_type": "execute_result"
    }
   ],
   "source": [
    "# Solution\n",
    "\n",
    "def collatz(x):\n",
    "    seq = [x]\n",
    "    if x == 1 :\n",
    "        return [1]                 \n",
    "    elif x % 2 == 0 :\n",
    "        seq.extend(collatz(x // 2))     \n",
    "    else:\n",
    "        seq.extend(collatz(x * 3 + 1))    \n",
    "    return seq\n",
    " \n",
    "collatz(1)"
   ]
  },
  {
   "cell_type": "code",
   "execution_count": 9,
   "id": "fda4631c-a25a-4e01-8498-dbf485a535d8",
   "metadata": {},
   "outputs": [
    {
     "data": {
      "text/plain": [
       "[10, 5, 16, 8, 4, 2, 1]"
      ]
     },
     "execution_count": 9,
     "metadata": {},
     "output_type": "execute_result"
    }
   ],
   "source": [
    "collatz(10)"
   ]
  },
  {
   "cell_type": "markdown",
   "id": "7032b9e9-1eea-495e-a149-300b57cb0001",
   "metadata": {},
   "source": [
    "### Question 5"
   ]
  },
  {
   "cell_type": "markdown",
   "id": "eece5359-ec51-4646-993d-76cb909efb9c",
   "metadata": {},
   "source": [
    "Write a recursive method binary() that takes a non-negative integer n and prints the binary representation of integer n."
   ]
  },
  {
   "cell_type": "code",
   "execution_count": 10,
   "id": "00e2ba34-a05d-49a7-81ae-1b1520751c7c",
   "metadata": {},
   "outputs": [
    {
     "name": "stdout",
     "output_type": "stream",
     "text": [
      "1100100"
     ]
    }
   ],
   "source": [
    "def binary(n):\n",
    "       if n > 1:\n",
    "        binary(n // 2)\n",
    "       print(n % 2,end = '')\n",
    "\n",
    "binary(100)"
   ]
  },
  {
   "cell_type": "markdown",
   "id": "6aec9680-fd8f-4c3a-8b8e-963943a3ef91",
   "metadata": {},
   "source": [
    "### Question 6"
   ]
  },
  {
   "cell_type": "markdown",
   "id": "cef5a476-b54b-4c64-a7a4-e4be93f13575",
   "metadata": {},
   "source": [
    "Implement a class named HeadingParser that can be used to parse an HTML document, and retrieve and print all the headings in the document.  \n",
    "You should implement your class as a subclass of HTMLParser, defined in Standard Library module html.parser.  \n",
    "When fed a string containing HTML code, your class should print the headings, one per line and in the order in which they appear in the document.  \n",
    "Each heading should be indented as follows:  \n",
    "an h1 heading should have indentation 0, and h2 heading should have indentation 1, etc.  \n",
    "Test your implementation using w3c.html.  \n",
    "    >>> infile = open('w3c.html')  \n",
    "    >>> content = infile.read()  \n",
    "    >>> infile.close()  \n",
    "    >>> hp = HeadingParser()  \n",
    "    >>> hp.feed(content)  \n",
    "W3C Mission  \n",
    "    >Principles  "
   ]
  },
  {
   "cell_type": "code",
   "execution_count": 11,
   "id": "57a40f95-97a1-47bc-b217-36c3b6970109",
   "metadata": {},
   "outputs": [
    {
     "name": "stdout",
     "output_type": "stream",
     "text": [
      " W3C Mission\n",
      " \n",
      "\t\n",
      "  Principles\n",
      "  \n",
      " \n",
      "\n",
      "\n",
      "\n",
      "  \n",
      "\n"
     ]
    }
   ],
   "source": [
    "# Solution\n",
    "\n",
    "from html.parser import HTMLParser\n",
    "\n",
    "class HeadingParser(HTMLParser):\n",
    "    query = {\"h1\":0,\n",
    "                    \"h2\":1,\n",
    "                    \"h3\":2,\n",
    "                    \"h4\":3,\n",
    "                    \"h5\":4,\n",
    "                    \"h6\":5\n",
    "                   }\n",
    "    tag_result = []\n",
    "    \n",
    "    def handle_starttag(self, tag, attrs):\n",
    "        self.tag_result.append(tag)\n",
    "            \n",
    "    def handle_data(self, data):\n",
    "        try:\n",
    "            if self.tag_result[-1] in self.query:\n",
    "                print(\" \"*self.query[self.tag_result[-1]], data)\n",
    "        except IndexError:\n",
    "            pass\n",
    "        \n",
    "infile = open(\"w3c.html\")\n",
    "content = infile.read()\n",
    "infile.close()\n",
    "hp = HeadingParser()\n",
    "hp.feed(content)"
   ]
  },
  {
   "cell_type": "markdown",
   "id": "079adc3c-550c-485b-8871-ebac85427502",
   "metadata": {},
   "source": [
    "### Question 7"
   ]
  },
  {
   "cell_type": "markdown",
   "id": "6c14e703-1ac1-4d04-a572-52b30c8f58c2",
   "metadata": {},
   "source": [
    "Implement recursive function webdir() that takes as input: a URL (as a string) and non-negative integers depth and indent.  \n",
    "Your function should visit every web page reachable from the starting URL web page in depth clicks or less, and print each web page's URL.  \n",
    "  \n",
    "As shown below, indentation, specified by indent, should be used to indicate the depth of a URL.  \n",
    "    >>> webdir('http://reed.cs.depaul.edu/lperkovic/csc242/test1.html', 2, 0)  \n",
    "    http://reed.cs.depaul.edu/lperkovic/csc242/test1.html  \n",
    "    http://reed.cs.depaul.edu/lperkovic/csc242/test2.html  \n",
    "            http://reed.cs.depaul.edu/lperkovic/csc242/test4.html  \n",
    "    http://reed.cs.depaul.edu/lperkovic/csc242/test3.html  \n",
    "        http://reed.cs.depaul.edu/lperkovic/csc242/test4.html  "
   ]
  },
  {
   "cell_type": "code",
   "execution_count": 12,
   "id": "397ff336-8118-489d-af9a-32e08ddbbc59",
   "metadata": {},
   "outputs": [],
   "source": [
    "# Solution\n"
   ]
  },
  {
   "cell_type": "markdown",
   "id": "ade2fa72-1ccd-4c75-93e7-ba23c775164b",
   "metadata": {},
   "source": [
    "### Question 8"
   ]
  },
  {
   "cell_type": "markdown",
   "id": "ef4f92b3-7513-47eb-83e7-998281ac0af5",
   "metadata": {},
   "source": [
    "Write SQL queries on the below database table that return:  \n",
    "a) All the temperature data.  \n",
    "b) All the cities, but without repetition.  \n",
    "c) All the records for India.  \n",
    "d) All the Fall records.  \n",
    "e) The city, country, and season for which the average rainfall is between 200 and 400 millimeters.  \n",
    "f) The city and country for which the average Fall temperature is above 20 degrees, in increasing temperature order.  \n",
    "g) The total annual rainfall for Cairo.  \n",
    "h) The total rainfall for each season.  "
   ]
  },
  {
   "cell_type": "raw",
   "id": "9dcd4390-2486-42dd-a380-753449555e7a",
   "metadata": {},
   "source": [
    "# Solution\n",
    "\n",
    "a. SELECT Temperature(C)\n",
    "    FROM <table_name>;\n",
    "b. SELECT DISTINCT City\n",
    "    FROM <table_name>;\n",
    "c. SELECT *\n",
    "    FROM <table_name>\n",
    "    WHERE Country = \"India\";\n",
    "d. SELECT *\n",
    "    FROM <table_name>\n",
    "    WHERE Season = \"Fall\";\n",
    "e. SELECT City, Country, Season\n",
    "    FROM <table_name>\n",
    "    GROUP BY Country\n",
    "    HAVING AVG(Rainfall(mm)) BETWEEN 200 AND 400;\n",
    "f. SELECT City, Country \n",
    "    FROM <table_name>\n",
    "    GROUP BY Season\n",
    "    WHERE Season = \"Fall\"\n",
    "    HAVING AVG(Temperature(C))>20\n",
    "    ORDER BY Temperature(C) ASC;\n",
    "g. SELECT SUM(Rainfall(mm))\n",
    "    FROM <table_name>\n",
    "    GROUP BY City\n",
    "    WHERE City = \"Cairo\"\n",
    "h. SELECT SUM(Rainfall(mm))\n",
    "    FROM <table_name>\n",
    "    GROUP BY Season;"
   ]
  },
  {
   "cell_type": "markdown",
   "id": "171c0a5c-ba18-4f47-8184-363dd144392d",
   "metadata": {},
   "source": [
    "### Question 9"
   ]
  },
  {
   "cell_type": "markdown",
   "id": "13450818-1ec5-45a1-a713-40434fd78dbe",
   "metadata": {},
   "source": [
    "Suppose list words is defined as follows:  \n",
    "    >>> words = ['The', 'quick', 'brown', 'fox', 'jumps', 'over', 'the', 'lazy', 'dog']  \n",
    "Write list comprehension expressions that use list words and generate the following lists:  \n",
    "    a) ['THE', 'QUICK', 'BROWN', 'FOX', 'JUMPS', 'OVER', 'THE', 'LAZY', 'DOG']  \n",
    "    b) ['the', 'quick', 'brown', 'fox', 'jumps', 'over', 'the', 'lazy', 'dog']  \n",
    "    c) [3, 5, 5, 3, 5, 4, 3, 4, 3] (the list of lengths of words in list words).  \n",
    "    d) [['THE', 'the', 3], ['QUICK', 'quick', 5], ['BROWN', 'brown', 5], ['FOX', 'fox', 3], ['JUMPS', 'jumps', 5], ['OVER', 'over', 4], ['THE', 'the', 3], ['LAZY', 'lazy', 4], ['DOG', 'dog', 3]] (the list containing a list for every word of list words, where each list contains the word in uppercase and lowercase and the length of the word.)  \n",
    "    e) ['The', 'quick', 'brown', 'fox', 'jumps', 'over', 'the', 'lazy', 'dog'] (the list of words in list words containing 4 or more characters.)  "
   ]
  },
  {
   "cell_type": "code",
   "execution_count": 13,
   "id": "099e58c4-6736-478e-be65-63f31325b217",
   "metadata": {},
   "outputs": [
    {
     "data": {
      "text/plain": [
       "['THE', 'QUICK', 'BROWN', 'FOX', 'JUMPS', 'OVER', 'THE', 'LAZY', 'DOG']"
      ]
     },
     "execution_count": 13,
     "metadata": {},
     "output_type": "execute_result"
    }
   ],
   "source": [
    "# Solution\n",
    "\n",
    "words = ['The', 'quick', 'brown', 'fox', 'jumps', 'over', 'the', 'lazy', 'dog']\n",
    "\n",
    "# 9.a.\n",
    "\n",
    "[word.upper() for word in words]"
   ]
  },
  {
   "cell_type": "code",
   "execution_count": 14,
   "id": "8c2c400f-e2db-4efc-b980-d92a31156408",
   "metadata": {},
   "outputs": [
    {
     "data": {
      "text/plain": [
       "['the', 'quick', 'brown', 'fox', 'jumps', 'over', 'the', 'lazy', 'dog']"
      ]
     },
     "execution_count": 14,
     "metadata": {},
     "output_type": "execute_result"
    }
   ],
   "source": [
    "# 9.b.\n",
    "\n",
    "[word.lower() for word in words]"
   ]
  },
  {
   "cell_type": "code",
   "execution_count": 15,
   "id": "3c56e575-78f4-4997-80cd-4ca0fc80a3bb",
   "metadata": {},
   "outputs": [
    {
     "data": {
      "text/plain": [
       "[3, 5, 5, 3, 5, 4, 3, 4, 3]"
      ]
     },
     "execution_count": 15,
     "metadata": {},
     "output_type": "execute_result"
    }
   ],
   "source": [
    "# 9.c.\n",
    "\n",
    "[len(word) for word in words]"
   ]
  },
  {
   "cell_type": "code",
   "execution_count": 16,
   "id": "6f2d152b-25e7-4802-85c1-346738166a85",
   "metadata": {},
   "outputs": [
    {
     "data": {
      "text/plain": [
       "[['THE', 'the', 3],\n",
       " ['QUICK', 'quick', 5],\n",
       " ['BROWN', 'brown', 5],\n",
       " ['FOX', 'fox', 3],\n",
       " ['JUMPS', 'jumps', 5],\n",
       " ['OVER', 'over', 4],\n",
       " ['THE', 'the', 3],\n",
       " ['LAZY', 'lazy', 4],\n",
       " ['DOG', 'dog', 3]]"
      ]
     },
     "execution_count": 16,
     "metadata": {},
     "output_type": "execute_result"
    }
   ],
   "source": [
    "# 9.d.\n",
    "\n",
    "[[word.upper(), word.lower(), len(word)] for word in words]"
   ]
  },
  {
   "cell_type": "code",
   "execution_count": 17,
   "id": "5ef4cde4-001d-4322-beea-e9b9c276f547",
   "metadata": {},
   "outputs": [
    {
     "data": {
      "text/plain": [
       "['quick', 'brown', 'jumps', 'over', 'lazy']"
      ]
     },
     "execution_count": 17,
     "metadata": {},
     "output_type": "execute_result"
    }
   ],
   "source": [
    "# 9.e.\n",
    "\n",
    "[word for word in words if len(word)>=4]"
   ]
  }
 ],
 "metadata": {
  "kernelspec": {
   "display_name": "default:Python",
   "language": "python",
   "name": "conda-env-default-py"
  },
  "language_info": {
   "codemirror_mode": {
    "name": "ipython",
    "version": 3
   },
   "file_extension": ".py",
   "mimetype": "text/x-python",
   "name": "python",
   "nbconvert_exporter": "python",
   "pygments_lexer": "ipython3",
   "version": "3.9.10"
  }
 },
 "nbformat": 4,
 "nbformat_minor": 5
}
